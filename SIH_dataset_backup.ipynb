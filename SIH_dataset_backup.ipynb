{
  "nbformat": 4,
  "nbformat_minor": 0,
  "metadata": {
    "colab": {
      "name": "SIH_dataset_backup.ipynb",
      "provenance": [],
      "collapsed_sections": [],
      "authorship_tag": "ABX9TyNzihYhjfyhpWbb4bZjgIaM"
    },
    "kernelspec": {
      "name": "python3",
      "display_name": "Python 3"
    }
  },
  "cells": [
    {
      "cell_type": "code",
      "metadata": {
        "id": "dTi2b6X8Mlpr",
        "colab_type": "code",
        "colab": {}
      },
      "source": [
        "from google.colab import drive\n",
        "drive.mount('/content/gdrive')"
      ],
      "execution_count": null,
      "outputs": []
    },
    {
      "cell_type": "code",
      "metadata": {
        "id": "rvoqq_leNy1L",
        "colab_type": "code",
        "colab": {}
      },
      "source": [
        "#root_path = 'gdrive/My Drive/Dataset_SIH/tad-IROS2019'  #change dir to your project folder\n",
        "\n",
        "\n",
        "!pip install --upgrade youtube-dl\n",
        "\n"
      ],
      "execution_count": null,
      "outputs": []
    },
    {
      "cell_type": "code",
      "metadata": {
        "id": "wjVj4EZQs8pD",
        "colab_type": "code",
        "colab": {}
      },
      "source": [
        "%cd \"/content/gdrive/My Drive/Dataset_SIH\"\n",
        "!ls\n",
        "!pwd"
      ],
      "execution_count": null,
      "outputs": []
    },
    {
      "cell_type": "code",
      "metadata": {
        "id": "G5qh0sCgSa_u",
        "colab_type": "code",
        "colab": {}
      },
      "source": [
        "!python \"tad-IROS2019/datasets/A3D_download.py\" --download_dir VIDEO_DIR --url_file \"tad-IROS2019/datasets/A3D_urls.txt\""
      ],
      "execution_count": null,
      "outputs": []
    },
    {
      "cell_type": "code",
      "metadata": {
        "id": "NkWdvOkIJ9w8",
        "colab_type": "code",
        "colab": {}
      },
      "source": [
        "from os import walk\n",
        "mypath = '.'\n",
        "f = []\n",
        "for (dirpath, dirnames, filenames) in walk(mypath):\n",
        "    f.extend(filenames)\n",
        "    break\n"
      ],
      "execution_count": null,
      "outputs": []
    },
    {
      "cell_type": "code",
      "metadata": {
        "id": "jfctPTKnLzAb",
        "colab_type": "code",
        "colab": {}
      },
      "source": [
        "print(f)"
      ],
      "execution_count": null,
      "outputs": []
    },
    {
      "cell_type": "code",
      "metadata": {
        "id": "ss7fXW2VKEM9",
        "colab_type": "code",
        "colab": {}
      },
      "source": [
        "#f[0] is .DS_Store\n",
        "\n",
        "#if already video_names.txt exist - delete it\n",
        "\n",
        "if os.path.isfile(\"video_names.txt\"):\n",
        "  os.remove(\"video_names.txt\")\n",
        "\n",
        "\n",
        "fileobj = open(\"video_names.txt\",\"w+\")\n",
        "\n",
        "for i in range(len(f)-2):\n",
        "  fileobj.write(\"/\")\n",
        "  fileobj.write(f[i+1])\n",
        "  fileobj.write(\"\\n\")\n",
        "\n",
        "fileobj.close()"
      ],
      "execution_count": null,
      "outputs": []
    },
    {
      "cell_type": "code",
      "metadata": {
        "id": "zUB6Ar7VMJjS",
        "colab_type": "code",
        "colab": {}
      },
      "source": [
        "!python \"tad-IROS2019/scripts/video2frames.py\" -v . --video_key_file \"video_names.txt\" -f 10 -o IMAGE_DIR -e jpg"
      ],
      "execution_count": null,
      "outputs": []
    },
    {
      "cell_type": "code",
      "metadata": {
        "id": "Fldz9wmm1A8y",
        "colab_type": "code",
        "colab": {}
      },
      "source": [
        "%cd \"/content/gdrive/My Drive/Dataset_SIH\"\n"
      ],
      "execution_count": null,
      "outputs": []
    },
    {
      "cell_type": "code",
      "metadata": {
        "id": "adhVNq27N-sf",
        "colab_type": "code",
        "colab": {}
      },
      "source": [
        "# from os import walk\n",
        "# mypath = './IMAGE_DIR'\n",
        "# directory_frames = []\n",
        "# for (dirpath, directory_frames, filenames) in walk(mypath):\n",
        "#     directory_frames.extend(directory_frames)\n",
        "#     break\n"
      ],
      "execution_count": null,
      "outputs": []
    },
    {
      "cell_type": "code",
      "metadata": {
        "id": "yfnImw5xUcpO",
        "colab_type": "code",
        "colab": {
          "base_uri": "https://localhost:8080/",
          "height": 34
        },
        "outputId": "cebeaaac-9b46-4e00-9a09-23096713342d"
      },
      "source": [
        "# print(len(directory_frames))"
      ],
      "execution_count": null,
      "outputs": [
        {
          "output_type": "stream",
          "text": [
            "122\n"
          ],
          "name": "stdout"
        }
      ]
    },
    {
      "cell_type": "code",
      "metadata": {
        "id": "xFZTpWqNwfBa",
        "colab_type": "code",
        "colab": {}
      },
      "source": [
        "!python \"tad-IROS2019/datasets/A3D_split.py\" --root_dir . --label_dir \"tad-IROS2019/datasets/A3D_labels.pkl\""
      ],
      "execution_count": null,
      "outputs": []
    }
  ]
}